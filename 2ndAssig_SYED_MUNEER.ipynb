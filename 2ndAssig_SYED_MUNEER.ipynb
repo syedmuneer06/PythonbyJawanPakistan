{
 "cells": [
  {
   "cell_type": "code",
   "execution_count": 8,
   "metadata": {},
   "outputs": [
    {
     "name": "stdout",
     "output_type": "stream",
     "text": [
      "your grade is A\n"
     ]
    }
   ],
   "source": [
    "Eng=90;\n",
    "Isl=75;\n",
    "Maths=90;\n",
    "Obtained_Marks=Eng+Isl+Maths;\n",
    "Total_Marks=300;\n",
    "percent=(Obtained_Marks/Total_Marks)*100;\n",
    "if percent >= 90:\n",
    "    Print(\"Your grade is A+\");\n",
    "elif percent<=89 and percent>=80:\n",
    "    print(\"your grade is A\")\n",
    "elif percent<=79 and percent>=70:\n",
    "    print(\"your grade is B+\")\n",
    "elif percent<=69 and percent>=60:\n",
    "    print(\"your grade is B\")\n",
    "elif percent<=59 and percent>=50:\n",
    "    print(\"your grade is B\")\n",
    "else:\n",
    "    print('Fail')\n",
    "    \n"
   ]
  },
  {
   "cell_type": "code",
   "execution_count": null,
   "metadata": {},
   "outputs": [],
   "source": []
  }
 ],
 "metadata": {
  "kernelspec": {
   "display_name": "Python 3",
   "language": "python",
   "name": "python3"
  },
  "language_info": {
   "codemirror_mode": {
    "name": "ipython",
    "version": 3
   },
   "file_extension": ".py",
   "mimetype": "text/x-python",
   "name": "python",
   "nbconvert_exporter": "python",
   "pygments_lexer": "ipython3",
   "version": "3.8.3"
  }
 },
 "nbformat": 4,
 "nbformat_minor": 4
}
